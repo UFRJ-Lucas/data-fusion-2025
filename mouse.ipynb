{
 "cells": [
  {
   "cell_type": "markdown",
   "id": "055f9244",
   "metadata": {},
   "source": [
    "# Capturar movimento do mouse\n",
    "Nesta seção, vamos criar uma interface utilizando a biblioteca **pygame**, contendo três alvos. O usuário deverá dar um **duplo clique** no primeiro alvo para iniciar a captura do mouse. Em seguida, deve movimentar o mouse até o alvo azul e realizar um **clique simples**; depois, guiar o mouse até o alvo vermelho e dar um **duplo clique** para encerrar a captura."
   ]
  },
  {
   "cell_type": "code",
   "execution_count": 73,
   "id": "a5931d38",
   "metadata": {},
   "outputs": [],
   "source": [
    "import pygame\n",
    "import time\n",
    "import pandas as pd\n",
    "from math import hypot"
   ]
  },
  {
   "cell_type": "markdown",
   "id": "9146b41e",
   "metadata": {},
   "source": [
    "## Parâmetros e variáveis"
   ]
  },
  {
   "cell_type": "code",
   "execution_count": 75,
   "id": "059c5129",
   "metadata": {},
   "outputs": [],
   "source": [
    "# EXECUTAR: parâmetros\n",
    "\n",
    "# Parâmetros de captura\n",
    "DOUBLE_CLICK_MAX_INTERVAL = 0.3  # segundos\n",
    "POINT_RADIUS = 20\n",
    "\n",
    "# Parâmetros dos alvos (offset)\n",
    "x_offset_inicio = -150\n",
    "y_offset_inicio = 150\n",
    "\n",
    "x_offset_intermediario = 0\n",
    "y_offset_intermediario = -120\n",
    "\n",
    "x_offset_fim = 0\n",
    "y_offset_fim = 50\n",
    "\n",
    "# Lista de eventos e outras variáveis\n",
    "eventos = []\n",
    "ultimo_click = {}\n",
    "click_pendente = {}\n",
    "capturando = False"
   ]
  },
  {
   "cell_type": "markdown",
   "id": "1301da27",
   "metadata": {},
   "source": [
    "## Funções"
   ]
  },
  {
   "cell_type": "code",
   "execution_count": 76,
   "id": "26de6937",
   "metadata": {},
   "outputs": [],
   "source": [
    "def registrar_evento(x, y, event_type, button, click_count):\n",
    "    eventos.append({\n",
    "        'timestamp': time.time(),\n",
    "        'x': x,\n",
    "        'y': y,\n",
    "        'event_type': event_type,\n",
    "        'button': button,\n",
    "        'click_count': click_count\n",
    "    })"
   ]
  },
  {
   "cell_type": "code",
   "execution_count": 77,
   "id": "0788703c",
   "metadata": {},
   "outputs": [],
   "source": [
    "def detect_click(x, y, button):\n",
    "    global ultimo_click, click_pendente\n",
    "    now = time.time()\n",
    "    key = str(button)\n",
    "\n",
    "    # Se já tem clique pendente\n",
    "    if key in click_pendente:\n",
    "        prev = click_pendente.pop(key)\n",
    "        dt = now - prev['timestamp']\n",
    "        dist = hypot(x - prev['x'], y - prev['y'])\n",
    "        if dt <= DOUBLE_CLICK_MAX_INTERVAL and dist <= POINT_RADIUS:\n",
    "            # é duplo clique\n",
    "            registrar_evento(x, y, 'double_click', button, 2)\n",
    "            return 'double_click', 2\n",
    "        else:\n",
    "            # registra o clique pendente como simples\n",
    "            registrar_evento(prev['x'], prev['y'], 'click', button, 1)\n",
    "\n",
    "    # guarda este clique como pendente\n",
    "    click_pendente[key] = {'timestamp': now, 'x': x, 'y': y}\n",
    "    return 'click_pending', 0\n"
   ]
  },
  {
   "cell_type": "code",
   "execution_count": 78,
   "id": "2de60978",
   "metadata": {},
   "outputs": [],
   "source": [
    "def processar_cliques_pendentes():\n",
    "    now = time.time()\n",
    "    keys_para_remover = []\n",
    "    for key, clique in click_pendente.items():\n",
    "        if now - clique['timestamp'] > DOUBLE_CLICK_MAX_INTERVAL:\n",
    "            # Registrando clique simples\n",
    "            registrar_evento(clique['x'], clique['y'], 'click', key, 1)\n",
    "            keys_para_remover.append(key)\n",
    "    # Remove cliques processados\n",
    "    for key in keys_para_remover:\n",
    "        click_pendente.pop(key)"
   ]
  },
  {
   "cell_type": "code",
   "execution_count": 79,
   "id": "1339254c",
   "metadata": {},
   "outputs": [],
   "source": [
    "def inicializar_pygame():\n",
    "    pygame.init()\n",
    "    info = pygame.display.Info()\n",
    "    global WIDTH, HEIGHT\n",
    "    WIDTH, HEIGHT = info.current_w // 2, info.current_h // 2\n",
    "    screen = pygame.display.set_mode((WIDTH, HEIGHT))\n",
    "    pygame.display.set_caption(\"Simulação de Trajetória do Mouse\")\n",
    "\n",
    "    # Definir pontos alvos (x, y)\n",
    "    ponto_inicio = (WIDTH // 4, HEIGHT // 2)\n",
    "    ponto_intermediario = (WIDTH // 2, HEIGHT // 2)\n",
    "    ponto_fim = (3 * WIDTH // 4, HEIGHT // 2)\n",
    "\n",
    "    return screen, ponto_inicio, ponto_intermediario, ponto_fim\n"
   ]
  },
  {
   "cell_type": "markdown",
   "id": "ada0cf89",
   "metadata": {},
   "source": [
    "## Excução"
   ]
  },
  {
   "cell_type": "code",
   "execution_count": 80,
   "id": "0cdcbc00",
   "metadata": {},
   "outputs": [
    {
     "name": "stdout",
     "output_type": "stream",
     "text": [
      "Captura iniciada\n",
      "Captura encerrada\n"
     ]
    }
   ],
   "source": [
    "#EXECUTAR: capturar movimento do mouse\n",
    "\n",
    "# Limpar variáveis\n",
    "eventos = []\n",
    "ultimo_click = {}\n",
    "\n",
    "# Inicializar pygame\n",
    "pygame.init()\n",
    "info = pygame.display.Info()\n",
    "WIDTH, HEIGHT = info.current_w // 2, info.current_h // 2\n",
    "screen = pygame.display.set_mode((WIDTH, HEIGHT))\n",
    "pygame.display.set_caption(\"Simulação de Trajetória do Mouse\")\n",
    "\n",
    "# Definir pontos alvos (x, y)\n",
    "ponto_inicio = ((WIDTH // 4) + x_offset_inicio, (HEIGHT // 2) + y_offset_inicio)\n",
    "ponto_intermediario = ((WIDTH // 2) + x_offset_intermediario, (HEIGHT // 2) + y_offset_intermediario)\n",
    "ponto_fim = ((3 * WIDTH // 4) + x_offset_fim, (HEIGHT // 2) + y_offset_fim)\n",
    "\n",
    "# Variável de controle\n",
    "rodando = True\n",
    "\n",
    "# Loop principal\n",
    "while rodando:\n",
    "    screen.fill((255, 255, 255))\n",
    "\n",
    "    # Desenhar pontos\n",
    "    pygame.draw.circle(screen, (0, 255, 0), ponto_inicio, POINT_RADIUS)  # verde\n",
    "    pygame.draw.circle(screen, (0, 0, 255), ponto_intermediario, POINT_RADIUS)  # azul\n",
    "    pygame.draw.circle(screen, (255, 0, 0), ponto_fim, POINT_RADIUS)  # vermelho\n",
    "    pygame.display.flip()\n",
    "\n",
    "    for event in pygame.event.get():\n",
    "        if event.type == pygame.QUIT:\n",
    "            rodando = False\n",
    "        elif event.type == pygame.MOUSEBUTTONUP:\n",
    "            x, y = event.pos\n",
    "            button = event.button\n",
    "            click_type, click_count = detect_click(x, y, button)\n",
    "\n",
    "            if not capturando and click_type == 'double_click' and hypot(x - ponto_inicio[0], y - ponto_inicio[1]) <= POINT_RADIUS:\n",
    "                capturando = True  # início da captura\n",
    "                print(\"Captura iniciada\")\n",
    "\n",
    "            if capturando and click_type == 'double_click' and hypot(x - ponto_fim[0], y - ponto_fim[1]) <= POINT_RADIUS:\n",
    "                capturando = False\n",
    "                rodando = False\n",
    "                print(\"Captura encerrada\")\n",
    "\n",
    "        elif event.type == pygame.MOUSEMOTION and capturando:\n",
    "            x, y = event.pos\n",
    "            registrar_evento(x, y, 'move', 'mouse', 0)\n",
    "\n",
    "    # Checar cliques pendentes\n",
    "    processar_cliques_pendentes()\n",
    "\n",
    "pygame.quit()\n"
   ]
  },
  {
   "cell_type": "markdown",
   "id": "2c49c99f",
   "metadata": {},
   "source": [
    "## Resultado"
   ]
  },
  {
   "cell_type": "code",
   "execution_count": 81,
   "id": "21e033b3",
   "metadata": {},
   "outputs": [],
   "source": [
    "import pandas as pd\n",
    "import matplotlib.pyplot as plt\n",
    "from matplotlib.offsetbox import OffsetImage, AnnotationBbox\n",
    "import matplotlib.image as mpimg"
   ]
  },
  {
   "cell_type": "code",
   "execution_count": 82,
   "id": "18bc4a4a",
   "metadata": {},
   "outputs": [],
   "source": [
    "%matplotlib qt"
   ]
  },
  {
   "cell_type": "code",
   "execution_count": 83,
   "id": "46fc2b1d",
   "metadata": {},
   "outputs": [
    {
     "name": "stdout",
     "output_type": "stream",
     "text": [
      "177 eventos registrados.\n"
     ]
    }
   ],
   "source": [
    "# Transformar lista em DataFrame\n",
    "df = pd.DataFrame(eventos)\n",
    "print(f\"{len(eventos)} eventos registrados.\")"
   ]
  },
  {
   "cell_type": "code",
   "execution_count": 84,
   "id": "961f458d",
   "metadata": {},
   "outputs": [
    {
     "data": {
      "text/html": [
       "<div>\n",
       "<style scoped>\n",
       "    .dataframe tbody tr th:only-of-type {\n",
       "        vertical-align: middle;\n",
       "    }\n",
       "\n",
       "    .dataframe tbody tr th {\n",
       "        vertical-align: top;\n",
       "    }\n",
       "\n",
       "    .dataframe thead th {\n",
       "        text-align: right;\n",
       "    }\n",
       "</style>\n",
       "<table border=\"1\" class=\"dataframe\">\n",
       "  <thead>\n",
       "    <tr style=\"text-align: right;\">\n",
       "      <th></th>\n",
       "      <th>timestamp</th>\n",
       "      <th>x</th>\n",
       "      <th>y</th>\n",
       "      <th>event_type</th>\n",
       "      <th>button</th>\n",
       "      <th>click_count</th>\n",
       "    </tr>\n",
       "  </thead>\n",
       "  <tbody>\n",
       "    <tr>\n",
       "      <th>0</th>\n",
       "      <td>1.758214e+09</td>\n",
       "      <td>83</td>\n",
       "      <td>418</td>\n",
       "      <td>double_click</td>\n",
       "      <td>1</td>\n",
       "      <td>2</td>\n",
       "    </tr>\n",
       "    <tr>\n",
       "      <th>113</th>\n",
       "      <td>1.758214e+09</td>\n",
       "      <td>474</td>\n",
       "      <td>149</td>\n",
       "      <td>click</td>\n",
       "      <td>1</td>\n",
       "      <td>1</td>\n",
       "    </tr>\n",
       "    <tr>\n",
       "      <th>176</th>\n",
       "      <td>1.758214e+09</td>\n",
       "      <td>719</td>\n",
       "      <td>327</td>\n",
       "      <td>double_click</td>\n",
       "      <td>1</td>\n",
       "      <td>2</td>\n",
       "    </tr>\n",
       "  </tbody>\n",
       "</table>\n",
       "</div>"
      ],
      "text/plain": [
       "        timestamp    x    y    event_type button  click_count\n",
       "0    1.758214e+09   83  418  double_click      1            2\n",
       "113  1.758214e+09  474  149         click      1            1\n",
       "176  1.758214e+09  719  327  double_click      1            2"
      ]
     },
     "metadata": {},
     "output_type": "display_data"
    }
   ],
   "source": [
    "display(df[df['click_count']!=0])"
   ]
  },
  {
   "cell_type": "code",
   "execution_count": 85,
   "id": "ba69ff8e",
   "metadata": {},
   "outputs": [],
   "source": [
    "# EXECUTAR: plotar\n",
    "\n",
    "# Configurações da janela (mesmo tamanho que o pygame)\n",
    "WIDTH, HEIGHT = info.current_w // 2, info.current_h // 2\n",
    "\n",
    "# Criar figura\n",
    "fig, ax = plt.subplots(figsize=(WIDTH/100, HEIGHT/100), dpi=100)\n",
    "ax.set_xlim(0, WIDTH)\n",
    "ax.set_ylim(0, HEIGHT)\n",
    "ax.invert_yaxis()  # coordenadas como no pygame (0,0 no topo)\n",
    "\n",
    "# Traçar trajetória\n",
    "movimentos = df[df['event_type'] == 'move']\n",
    "ax.plot(movimentos['x'], movimentos['y'], color='black', linewidth=1)\n",
    "\n",
    "# Marcar cliques\n",
    "cliques = df[df['event_type'].isin(['click', 'double_click'])]\n",
    "for _, row in cliques.iterrows():\n",
    "    x, y = row['x'], row['y']\n",
    "    if row['event_type'] == 'click':\n",
    "        ax.scatter(x, y, color='blue', s=50, label='Clique')\n",
    "        ax.text(x + 5, y + 5, '1x', fontsize=8)\n",
    "    else:  # double_click\n",
    "        ax.scatter(x, y, color='red', s=70, label='Duplo clique')\n",
    "        ax.text(x + 5, y + 5, '2x', fontsize=8)\n",
    "\n",
    "# Evitar múltiplas legendas repetidas\n",
    "handles, labels = ax.get_legend_handles_labels()\n",
    "by_label = dict(zip(labels, handles))\n",
    "ax.legend(by_label.values(), by_label.keys())\n",
    "\n",
    "plt.title(\"Trajetória do Mouse (simulação)\")\n",
    "plt.show()  # abre em janela separada, não trava o notebook\n"
   ]
  },
  {
   "cell_type": "markdown",
   "id": "58c1a5de",
   "metadata": {},
   "source": [
    "# Simular tremores\n",
    "Nesta seção, utilizaremos os dados capturados anteriormente e adicionaremos **ruído aleatório** às posições, com o objetivo de **simular tremores**."
   ]
  },
  {
   "cell_type": "code",
   "execution_count": 93,
   "id": "4efc3f82",
   "metadata": {},
   "outputs": [],
   "source": [
    "import numpy as np\n",
    "import matplotlib.pyplot as plt\n",
    "import matplotlib.patches as mpatches\n",
    "from matplotlib.lines import Line2D"
   ]
  },
  {
   "cell_type": "markdown",
   "id": "0c5705d3",
   "metadata": {},
   "source": [
    "## Funções"
   ]
  },
  {
   "cell_type": "code",
   "execution_count": 87,
   "id": "d9666895",
   "metadata": {},
   "outputs": [],
   "source": [
    "def gerar_ruido_aleatorio(df_mov, sigma_min=2, sigma_max=15):\n",
    "    \"\"\"\n",
    "    Adiciona ruído aleatório nas coordenadas x e y, com intensidade variável\n",
    "    de forma aleatória ao longo da trajetória.\n",
    "\n",
    "    df_mov: DataFrame de movimentos\n",
    "    sigma_min: desvio padrão mínimo\n",
    "    sigma_max: desvio padrão máximo\n",
    "    \"\"\"\n",
    "    n = len(df_mov)\n",
    "    if n == 0:\n",
    "        return df_mov\n",
    "\n",
    "    # Intensidade do ruído sorteada aleatoriamente para cada ponto\n",
    "    np.random.seed(42)  # reprodutibilidade\n",
    "    sigma_x = np.random.uniform(sigma_min, sigma_max, n)\n",
    "    sigma_y = np.random.uniform(sigma_min, sigma_max, n)\n",
    "\n",
    "    df_mov['x_noisy'] = df_mov['x'] + np.random.normal(0, sigma_x)\n",
    "    df_mov['y_noisy'] = df_mov['y'] + np.random.normal(0, sigma_y)\n",
    "    return df_mov\n"
   ]
  },
  {
   "cell_type": "markdown",
   "id": "e2e5e790",
   "metadata": {},
   "source": [
    "## Executar"
   ]
  },
  {
   "cell_type": "code",
   "execution_count": 88,
   "id": "89cc3a93",
   "metadata": {},
   "outputs": [],
   "source": [
    "# Filtrar apenas movimentos\n",
    "df_mov = df[df['event_type'] == 'move'].copy()\n",
    "\n",
    "# Adicionar ruído variável\n",
    "df_mov = gerar_ruido_aleatorio(df_mov, sigma_min=2, sigma_max=30)"
   ]
  },
  {
   "cell_type": "code",
   "execution_count": 89,
   "id": "f07aa9d3",
   "metadata": {},
   "outputs": [],
   "source": [
    "df_cliques = df[df['event_type'].isin(['click', 'double_click'])].copy()\n",
    "df_cliques['x_noisy'] = df_cliques['x']\n",
    "df_cliques['y_noisy'] = df_cliques['y']\n",
    "\n",
    "# Novo DataFrame com movimentos ruidosos + cliques originais\n",
    "df_noisy = pd.concat([df_mov, df_cliques], ignore_index=True).sort_values('timestamp')"
   ]
  },
  {
   "cell_type": "markdown",
   "id": "cd70c24c",
   "metadata": {},
   "source": [
    "## Resultado"
   ]
  },
  {
   "cell_type": "code",
   "execution_count": 90,
   "id": "7a5f0cf1",
   "metadata": {},
   "outputs": [],
   "source": [
    "plt.figure(figsize=(10, 6))\n",
    "plt.plot(df_noisy['x_noisy'], df_noisy['y_noisy'], color='black', linewidth=1)\n",
    "\n",
    "# Marcar cliques\n",
    "for _, row in df_noisy[df_noisy['event_type'].isin(['click', 'double_click'])].iterrows():\n",
    "    color = 'blue' if row['event_type'] == 'click' else 'red'\n",
    "    plt.scatter(row['x_noisy'], row['y_noisy'], color=color, s=50)\n",
    "\n",
    "plt.gca().invert_yaxis()\n",
    "plt.title(\"Trajetória com tremor variável simulado\")\n",
    "plt.show()\n"
   ]
  },
  {
   "cell_type": "markdown",
   "id": "30ac50a0",
   "metadata": {},
   "source": [
    "## Comparar"
   ]
  },
  {
   "cell_type": "code",
   "execution_count": null,
   "id": "28532712",
   "metadata": {},
   "outputs": [],
   "source": [
    "# Criar figura\n",
    "fig, ax = plt.subplots(figsize=(WIDTH/100, HEIGHT/100), dpi=100)\n",
    "ax.set_xlim(0, WIDTH)\n",
    "ax.set_ylim(0, HEIGHT)\n",
    "ax.invert_yaxis()  # coordenadas como no pygame (0,0 no topo)\n",
    "\n",
    "# Trajetória original\n",
    "ax.plot(df[df['event_type'] == 'move']['x'],\n",
    "        df[df['event_type'] == 'move']['y'],\n",
    "        color='black', linewidth=1, label='Trajetória Original')\n",
    "\n",
    "# Trajetória com ruído\n",
    "ax.plot(df_noisy[df_noisy['event_type'] == 'move']['x_noisy'],\n",
    "        df_noisy[df_noisy['event_type'] == 'move']['y_noisy'],\n",
    "        color='orange', linewidth=1, label='Trajetória com Tremor')\n",
    "\n",
    "# Marcar cliques\n",
    "for df_plot, label_suffix in zip([df, df_noisy], ['Orig', 'Ruído']):\n",
    "    for _, row in df_plot[df_plot['event_type'].isin(['click', 'double_click'])].iterrows():\n",
    "        color = 'blue' if row['event_type'] == 'click' else 'red'\n",
    "        ax.scatter(row['x'], row['y'], color=color, s=50)\n",
    "\n",
    "# Legenda dos cliques\n",
    "clique_patch = Line2D([0], [0], marker='o', color='w', label='Clique Único',\n",
    "                       markerfacecolor='blue', markersize=8)\n",
    "double_patch = Line2D([0], [0], marker='o', color='w', label='Duplo Clique',\n",
    "                       markerfacecolor='red', markersize=8)\n",
    "ax.legend(handles=[ax.get_lines()[0], ax.get_lines()[1], clique_patch, double_patch])\n",
    "\n",
    "ax.set_title(\"Comparação: Trajetória Original x Trajetória com Tremor\")\n",
    "ax.set_xlabel(\"X\")\n",
    "ax.set_ylabel(\"Y\")\n",
    "plt.show()"
   ]
  }
 ],
 "metadata": {
  "kernelspec": {
   "display_name": ".venv (3.10.0)",
   "language": "python",
   "name": "python3"
  },
  "language_info": {
   "codemirror_mode": {
    "name": "ipython",
    "version": 3
   },
   "file_extension": ".py",
   "mimetype": "text/x-python",
   "name": "python",
   "nbconvert_exporter": "python",
   "pygments_lexer": "ipython3",
   "version": "3.10.0"
  }
 },
 "nbformat": 4,
 "nbformat_minor": 5
}
